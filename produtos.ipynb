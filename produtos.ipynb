{
 "cells": [
  {
   "cell_type": "markdown",
   "metadata": {},
   "source": [
    "# Pré-processamento"
   ]
  },
  {
   "cell_type": "code",
   "execution_count": 1,
   "metadata": {},
   "outputs": [
    {
     "name": "stderr",
     "output_type": "stream",
     "text": [
      "/home/celesde/anaconda3/lib/python3.7/site-packages/sklearn/feature_extraction/image.py:167: DeprecationWarning: `np.int` is a deprecated alias for the builtin `int`. To silence this warning, use `int` by itself. Doing this will not modify any behavior and is safe. When replacing `np.int`, you may wish to use e.g. `np.int64` or `np.int32` to specify the precision. If you wish to review your current use, check the release note link for additional information.\n",
      "Deprecated in NumPy 1.20; for more details and guidance: https://numpy.org/devdocs/release/1.20.0-notes.html#deprecations\n",
      "  dtype=np.int):\n",
      "/home/celesde/anaconda3/lib/python3.7/site-packages/sklearn/linear_model/least_angle.py:35: DeprecationWarning: `np.float` is a deprecated alias for the builtin `float`. To silence this warning, use `float` by itself. Doing this will not modify any behavior and is safe. If you specifically wanted the numpy scalar type, use `np.float64` here.\n",
      "Deprecated in NumPy 1.20; for more details and guidance: https://numpy.org/devdocs/release/1.20.0-notes.html#deprecations\n",
      "  eps=np.finfo(np.float).eps,\n",
      "/home/celesde/anaconda3/lib/python3.7/site-packages/sklearn/linear_model/least_angle.py:597: DeprecationWarning: `np.float` is a deprecated alias for the builtin `float`. To silence this warning, use `float` by itself. Doing this will not modify any behavior and is safe. If you specifically wanted the numpy scalar type, use `np.float64` here.\n",
      "Deprecated in NumPy 1.20; for more details and guidance: https://numpy.org/devdocs/release/1.20.0-notes.html#deprecations\n",
      "  eps=np.finfo(np.float).eps, copy_X=True, fit_path=True,\n",
      "/home/celesde/anaconda3/lib/python3.7/site-packages/sklearn/linear_model/least_angle.py:836: DeprecationWarning: `np.float` is a deprecated alias for the builtin `float`. To silence this warning, use `float` by itself. Doing this will not modify any behavior and is safe. If you specifically wanted the numpy scalar type, use `np.float64` here.\n",
      "Deprecated in NumPy 1.20; for more details and guidance: https://numpy.org/devdocs/release/1.20.0-notes.html#deprecations\n",
      "  eps=np.finfo(np.float).eps, copy_X=True, fit_path=True,\n",
      "/home/celesde/anaconda3/lib/python3.7/site-packages/sklearn/linear_model/least_angle.py:862: DeprecationWarning: `np.float` is a deprecated alias for the builtin `float`. To silence this warning, use `float` by itself. Doing this will not modify any behavior and is safe. If you specifically wanted the numpy scalar type, use `np.float64` here.\n",
      "Deprecated in NumPy 1.20; for more details and guidance: https://numpy.org/devdocs/release/1.20.0-notes.html#deprecations\n",
      "  eps=np.finfo(np.float).eps, positive=False):\n",
      "/home/celesde/anaconda3/lib/python3.7/site-packages/sklearn/linear_model/least_angle.py:1097: DeprecationWarning: `np.float` is a deprecated alias for the builtin `float`. To silence this warning, use `float` by itself. Doing this will not modify any behavior and is safe. If you specifically wanted the numpy scalar type, use `np.float64` here.\n",
      "Deprecated in NumPy 1.20; for more details and guidance: https://numpy.org/devdocs/release/1.20.0-notes.html#deprecations\n",
      "  max_n_alphas=1000, n_jobs=None, eps=np.finfo(np.float).eps,\n",
      "/home/celesde/anaconda3/lib/python3.7/site-packages/sklearn/linear_model/least_angle.py:1344: DeprecationWarning: `np.float` is a deprecated alias for the builtin `float`. To silence this warning, use `float` by itself. Doing this will not modify any behavior and is safe. If you specifically wanted the numpy scalar type, use `np.float64` here.\n",
      "Deprecated in NumPy 1.20; for more details and guidance: https://numpy.org/devdocs/release/1.20.0-notes.html#deprecations\n",
      "  max_n_alphas=1000, n_jobs=None, eps=np.finfo(np.float).eps,\n",
      "/home/celesde/anaconda3/lib/python3.7/site-packages/sklearn/linear_model/least_angle.py:1480: DeprecationWarning: `np.float` is a deprecated alias for the builtin `float`. To silence this warning, use `float` by itself. Doing this will not modify any behavior and is safe. If you specifically wanted the numpy scalar type, use `np.float64` here.\n",
      "Deprecated in NumPy 1.20; for more details and guidance: https://numpy.org/devdocs/release/1.20.0-notes.html#deprecations\n",
      "  eps=np.finfo(np.float).eps, copy_X=True, positive=False):\n",
      "/home/celesde/anaconda3/lib/python3.7/site-packages/sklearn/linear_model/randomized_l1.py:152: DeprecationWarning: `np.float` is a deprecated alias for the builtin `float`. To silence this warning, use `float` by itself. Doing this will not modify any behavior and is safe. If you specifically wanted the numpy scalar type, use `np.float64` here.\n",
      "Deprecated in NumPy 1.20; for more details and guidance: https://numpy.org/devdocs/release/1.20.0-notes.html#deprecations\n",
      "  precompute=False, eps=np.finfo(np.float).eps,\n",
      "/home/celesde/anaconda3/lib/python3.7/site-packages/sklearn/linear_model/randomized_l1.py:320: DeprecationWarning: `np.float` is a deprecated alias for the builtin `float`. To silence this warning, use `float` by itself. Doing this will not modify any behavior and is safe. If you specifically wanted the numpy scalar type, use `np.float64` here.\n",
      "Deprecated in NumPy 1.20; for more details and guidance: https://numpy.org/devdocs/release/1.20.0-notes.html#deprecations\n",
      "  eps=np.finfo(np.float).eps, random_state=None,\n",
      "/home/celesde/anaconda3/lib/python3.7/site-packages/sklearn/linear_model/randomized_l1.py:580: DeprecationWarning: `np.float` is a deprecated alias for the builtin `float`. To silence this warning, use `float` by itself. Doing this will not modify any behavior and is safe. If you specifically wanted the numpy scalar type, use `np.float64` here.\n",
      "Deprecated in NumPy 1.20; for more details and guidance: https://numpy.org/devdocs/release/1.20.0-notes.html#deprecations\n",
      "  eps=4 * np.finfo(np.float).eps, n_jobs=None,\n"
     ]
    },
    {
     "name": "stdout",
     "output_type": "stream",
     "text": [
      "categoria\n",
      "brinquedo    1020\n",
      "game         1020\n",
      "livro        1020\n",
      "maquiagem    1020\n",
      "dtype: int64\n"
     ]
    }
   ],
   "source": [
    "%matplotlib inline\n",
    "import pandas as pd\n",
    "from sklearn.model_selection import train_test_split\n",
    "import matplotlib.pyplot as plt\n",
    "import nltk\n",
    "\n",
    "products_data = pd.read_csv('produtos.csv', delimiter=';')\n",
    "print(products_data.groupby('categoria').size())"
   ]
  },
  {
   "cell_type": "code",
   "execution_count": 2,
   "metadata": {},
   "outputs": [
    {
     "data": {
      "text/html": [
       "<div>\n",
       "<style scoped>\n",
       "    .dataframe tbody tr th:only-of-type {\n",
       "        vertical-align: middle;\n",
       "    }\n",
       "\n",
       "    .dataframe tbody tr th {\n",
       "        vertical-align: top;\n",
       "    }\n",
       "\n",
       "    .dataframe thead th {\n",
       "        text-align: right;\n",
       "    }\n",
       "</style>\n",
       "<table border=\"1\" class=\"dataframe\">\n",
       "  <thead>\n",
       "    <tr style=\"text-align: right;\">\n",
       "      <th></th>\n",
       "      <th>nome</th>\n",
       "      <th>descricao</th>\n",
       "      <th>categoria</th>\n",
       "    </tr>\n",
       "  </thead>\n",
       "  <tbody>\n",
       "    <tr>\n",
       "      <th>0</th>\n",
       "      <td>O Hobbit - 7ª Ed. 2013</td>\n",
       "      <td>Produto NovoBilbo Bolseiro é um hobbit que lev...</td>\n",
       "      <td>livro</td>\n",
       "    </tr>\n",
       "    <tr>\n",
       "      <th>1</th>\n",
       "      <td>Livro - It A Coisa - Stephen King</td>\n",
       "      <td>Produto NovoDurante as férias escolares de 195...</td>\n",
       "      <td>livro</td>\n",
       "    </tr>\n",
       "    <tr>\n",
       "      <th>2</th>\n",
       "      <td>Box  As Crônicas De Gelo E Fogo  Pocket  5 Li...</td>\n",
       "      <td>Produto NovoTodo o reino de Westeros ao alcanc...</td>\n",
       "      <td>livro</td>\n",
       "    </tr>\n",
       "    <tr>\n",
       "      <th>3</th>\n",
       "      <td>Box Harry Potter</td>\n",
       "      <td>Produto Novo e Físico  A série Harry Potter ch...</td>\n",
       "      <td>livro</td>\n",
       "    </tr>\n",
       "    <tr>\n",
       "      <th>4</th>\n",
       "      <td>Livro Origem - Dan Brown</td>\n",
       "      <td>Produto NovoDe Onde Viemos? Para Onde Vamos? R...</td>\n",
       "      <td>livro</td>\n",
       "    </tr>\n",
       "  </tbody>\n",
       "</table>\n",
       "</div>"
      ],
      "text/plain": [
       "                                                nome  \\\n",
       "0                            O Hobbit - 7ª Ed. 2013    \n",
       "1                 Livro - It A Coisa - Stephen King    \n",
       "2   Box  As Crônicas De Gelo E Fogo  Pocket  5 Li...   \n",
       "3                                  Box Harry Potter    \n",
       "4                          Livro Origem - Dan Brown    \n",
       "\n",
       "                                           descricao categoria  \n",
       "0  Produto NovoBilbo Bolseiro é um hobbit que lev...     livro  \n",
       "1  Produto NovoDurante as férias escolares de 195...     livro  \n",
       "2  Produto NovoTodo o reino de Westeros ao alcanc...     livro  \n",
       "3  Produto Novo e Físico  A série Harry Potter ch...     livro  \n",
       "4  Produto NovoDe Onde Viemos? Para Onde Vamos? R...     livro  "
      ]
     },
     "execution_count": 2,
     "metadata": {},
     "output_type": "execute_result"
    }
   ],
   "source": [
    "products_data.head()"
   ]
  },
  {
   "cell_type": "code",
   "execution_count": 3,
   "metadata": {
    "scrolled": true
   },
   "outputs": [
    {
     "name": "stdout",
     "output_type": "stream",
     "text": [
      "  categoria\n",
      "0     livro\n",
      "1     livro\n",
      "2     livro\n",
      "3     livro\n",
      "4     livro\n",
      "                                          informacao\n",
      "0   O Hobbit - 7ª Ed. 2013 Produto NovoBilbo Bols...\n",
      "1   Livro - It A Coisa - Stephen King Produto Nov...\n",
      "2   Box  As Crônicas De Gelo E Fogo  Pocket  5 Li...\n",
      "3   Box Harry Potter Produto Novo e Físico  A sér...\n",
      "4   Livro Origem - Dan Brown Produto NovoDe Onde ...\n"
     ]
    }
   ],
   "source": [
    "# concatenando as colunas nome e descricao\n",
    "products_data['informacao'] = products_data['nome'] + products_data['descricao']\n",
    "\n",
    "# excluindo linhas com valor de informacao ou categoria NaN\n",
    "products_data.dropna(subset=['informacao', 'categoria'], inplace=True)\n",
    "#products_data.drop(columns = '')\n",
    "y = products_data.drop(columns=['nome', 'descricao', 'informacao'])\n",
    "X = products_data.drop(columns=['nome', 'descricao', 'categoria'])\n",
    "\n",
    "print(y.head())\n",
    "print(X.head())"
   ]
  },
  {
   "cell_type": "markdown",
   "metadata": {},
   "source": [
    "### 29% do dataframe foi removido, porém não é possível utilizar detalhes sem classificação ou classificação sem detalhes. "
   ]
  },
  {
   "cell_type": "code",
   "execution_count": 4,
   "metadata": {},
   "outputs": [
    {
     "name": "stdout",
     "output_type": "stream",
     "text": [
      "categoria\n",
      "brinquedo    668\n",
      "game         622\n",
      "livro        838\n",
      "maquiagem    788\n",
      "dtype: int64\n"
     ]
    }
   ],
   "source": [
    "print(products_data.groupby('categoria').size())"
   ]
  },
  {
   "cell_type": "code",
   "execution_count": 5,
   "metadata": {},
   "outputs": [
    {
     "data": {
      "image/png": "[encoded data removed]",
      "text/plain": [
       "<Figure size 432x288 with 1 Axes>"
      ]
     },
     "metadata": {
      "needs_background": "light"
     },
     "output_type": "display_data"
    }
   ],
   "source": [
    "import seaborn as sns\n",
    "sns.countplot(products_data['categoria'],label=\"Count\")\n",
    "# não esta balanceado mas pode ser melhorado posteriormente.\n",
    "plt.show()"
   ]
  },
  {
   "cell_type": "code",
   "execution_count": 6,
   "metadata": {},
   "outputs": [
    {
     "name": "stdout",
     "output_type": "stream",
     "text": [
      "0    hobbit - 7ª ed. 2013 produto novobilbo bolseir...\n",
      "1    livro - it coisa - stephen king produto novodu...\n",
      "2    box crônicas gelo fogo pocket 5 livros produto...\n",
      "3    box harry potter produto novo físico série har...\n",
      "4    livro origem - dan brown produto novode onde v...\n",
      "Name: sem_stopwords, dtype: object\n"
     ]
    }
   ],
   "source": [
    "from nltk.corpus import stopwords\n",
    "stop_words=set(stopwords.words(\"portuguese\"))\n",
    "\n",
    "# transforma a string em caixa baixa e remove stopwords\n",
    "X['sem_stopwords'] = X['informacao'].str.lower().apply(lambda x: ' '.join([word for word in x.split() if word not in (stop_words)]))\n",
    "print(X['sem_stopwords'].head())"
   ]
  },
  {
   "cell_type": "markdown",
   "metadata": {},
   "source": [
    "### Não é necessário fazer separação visto que count vectorize já faz isso posteriormente\n",
    "porém é válida para visualização da ocorrência de cada palavra (:"
   ]
  },
  {
   "cell_type": "code",
   "execution_count": 7,
   "metadata": {
    "scrolled": true
   },
   "outputs": [
    {
     "name": "stdout",
     "output_type": "stream",
     "text": [
      "0    [hobbit, 7ª, ed, 2013, produto, novobilbo, bol...\n",
      "1    [livro, it, coisa, stephen, king, produto, nov...\n",
      "2    [box, crônicas, gelo, fogo, pocket, 5, livros,...\n",
      "3    [box, harry, potter, produto, novo, físico, sé...\n",
      "4    [livro, origem, dan, brown, produto, novode, o...\n",
      "Name: tokens, dtype: object\n",
      "0    {'hobbit': 2, '7ª': 1, 'ed': 1, '2013': 2, 'pr...\n",
      "1    {'livro': 1, 'it': 2, 'coisa': 5, 'stephen': 2...\n",
      "2    {'box': 2, 'crônicas': 3, 'gelo': 3, 'fogo': 3...\n",
      "3    {'box': 2, 'harry': 26, 'potter': 21, 'produto...\n",
      "4    {'livro': 1, 'origem': 2, 'dan': 1, 'brown': 2...\n",
      "Name: tokens, dtype: object\n"
     ]
    }
   ],
   "source": [
    "tokenizer = nltk.RegexpTokenizer(r\"\\w+\")\n",
    "X['tokens'] = X['sem_stopwords'].apply(tokenizer.tokenize) # aplica o regex tokenizer\n",
    "print(X['tokens'].head())\n",
    "\n",
    "from nltk.probability import FreqDist\n",
    "fdist = X['tokens'].apply(FreqDist) # calcula a frequência de cada token\n",
    "print(fdist.head()) # frequencia na coluna sem stop_words\n"
   ]
  },
  {
   "cell_type": "markdown",
   "metadata": {},
   "source": [
    "### A impressão acima mostra a frequência das palavras após tratamentos para lowercase e sem stopwords. Abaixo segue as listas sem tratamentos."
   ]
  },
  {
   "cell_type": "code",
   "execution_count": 8,
   "metadata": {
    "scrolled": true
   },
   "outputs": [
    {
     "name": "stdout",
     "output_type": "stream",
     "text": [
      "0    {'O': 1, 'Hobbit': 1, '7ª': 1, 'Ed': 1, '2013'...\n",
      "1    {'Livro': 1, 'It': 2, 'A': 3, 'Coisa': 5, 'Ste...\n",
      "2    {'Box': 2, 'As': 1, 'Crônicas': 3, 'De': 1, 'G...\n",
      "3    {'Box': 1, 'Harry': 26, 'Potter': 21, 'Produto...\n",
      "4    {'Livro': 1, 'Origem': 2, 'Dan': 1, 'Brown': 2...\n",
      "Name: informacao, dtype: object\n"
     ]
    }
   ],
   "source": [
    "fdist_comstop = X['informacao'].apply(tokenizer.tokenize).apply(FreqDist)\n",
    "print(fdist_comstop.head()) # Frequencia na coluna com stop_words"
   ]
  },
  {
   "cell_type": "code",
   "execution_count": 9,
   "metadata": {},
   "outputs": [
    {
     "data": {
      "text/html": [
       "<div>\n",
       "<style scoped>\n",
       "    .dataframe tbody tr th:only-of-type {\n",
       "        vertical-align: middle;\n",
       "    }\n",
       "\n",
       "    .dataframe tbody tr th {\n",
       "        vertical-align: top;\n",
       "    }\n",
       "\n",
       "    .dataframe thead th {\n",
       "        text-align: right;\n",
       "    }\n",
       "</style>\n",
       "<table border=\"1\" class=\"dataframe\">\n",
       "  <thead>\n",
       "    <tr style=\"text-align: right;\">\n",
       "      <th></th>\n",
       "      <th>informacao</th>\n",
       "      <th>sem_stopwords</th>\n",
       "      <th>tokens</th>\n",
       "    </tr>\n",
       "  </thead>\n",
       "  <tbody>\n",
       "    <tr>\n",
       "      <th>0</th>\n",
       "      <td>O Hobbit - 7ª Ed. 2013 Produto NovoBilbo Bols...</td>\n",
       "      <td>hobbit - 7ª ed. 2013 produto novobilbo bolseir...</td>\n",
       "      <td>[hobbit, 7ª, ed, 2013, produto, novobilbo, bol...</td>\n",
       "    </tr>\n",
       "    <tr>\n",
       "      <th>1</th>\n",
       "      <td>Livro - It A Coisa - Stephen King Produto Nov...</td>\n",
       "      <td>livro - it coisa - stephen king produto novodu...</td>\n",
       "      <td>[livro, it, coisa, stephen, king, produto, nov...</td>\n",
       "    </tr>\n",
       "    <tr>\n",
       "      <th>2</th>\n",
       "      <td>Box  As Crônicas De Gelo E Fogo  Pocket  5 Li...</td>\n",
       "      <td>box crônicas gelo fogo pocket 5 livros produto...</td>\n",
       "      <td>[box, crônicas, gelo, fogo, pocket, 5, livros,...</td>\n",
       "    </tr>\n",
       "    <tr>\n",
       "      <th>3</th>\n",
       "      <td>Box Harry Potter Produto Novo e Físico  A sér...</td>\n",
       "      <td>box harry potter produto novo físico série har...</td>\n",
       "      <td>[box, harry, potter, produto, novo, físico, sé...</td>\n",
       "    </tr>\n",
       "    <tr>\n",
       "      <th>4</th>\n",
       "      <td>Livro Origem - Dan Brown Produto NovoDe Onde ...</td>\n",
       "      <td>livro origem - dan brown produto novode onde v...</td>\n",
       "      <td>[livro, origem, dan, brown, produto, novode, o...</td>\n",
       "    </tr>\n",
       "  </tbody>\n",
       "</table>\n",
       "</div>"
      ],
      "text/plain": [
       "                                          informacao  \\\n",
       "0   O Hobbit - 7ª Ed. 2013 Produto NovoBilbo Bols...   \n",
       "1   Livro - It A Coisa - Stephen King Produto Nov...   \n",
       "2   Box  As Crônicas De Gelo E Fogo  Pocket  5 Li...   \n",
       "3   Box Harry Potter Produto Novo e Físico  A sér...   \n",
       "4   Livro Origem - Dan Brown Produto NovoDe Onde ...   \n",
       "\n",
       "                                       sem_stopwords  \\\n",
       "0  hobbit - 7ª ed. 2013 produto novobilbo bolseir...   \n",
       "1  livro - it coisa - stephen king produto novodu...   \n",
       "2  box crônicas gelo fogo pocket 5 livros produto...   \n",
       "3  box harry potter produto novo físico série har...   \n",
       "4  livro origem - dan brown produto novode onde v...   \n",
       "\n",
       "                                              tokens  \n",
       "0  [hobbit, 7ª, ed, 2013, produto, novobilbo, bol...  \n",
       "1  [livro, it, coisa, stephen, king, produto, nov...  \n",
       "2  [box, crônicas, gelo, fogo, pocket, 5, livros,...  \n",
       "3  [box, harry, potter, produto, novo, físico, sé...  \n",
       "4  [livro, origem, dan, brown, produto, novode, o...  "
      ]
     },
     "execution_count": 9,
     "metadata": {},
     "output_type": "execute_result"
    }
   ],
   "source": [
    "X.head()"
   ]
  },
  {
   "cell_type": "markdown",
   "metadata": {},
   "source": [
    "## Stemmer.\n",
    "Extrai o sufixo das palavras, usado para facilitar a associação entre palavras com sentidos próximos.\n",
    "\n",
    "\n",
    "Precisão razoável.\n",
    "\n",
    "\n",
    "Por exemplo:\n"
   ]
  },
  {
   "cell_type": "code",
   "execution_count": 10,
   "metadata": {},
   "outputs": [],
   "source": [
    "from nltk.stem.snowball import SnowballStemmer\n",
    "stemmer = SnowballStemmer(\"portuguese\")"
   ]
  },
  {
   "cell_type": "code",
   "execution_count": 11,
   "metadata": {},
   "outputs": [
    {
     "name": "stdout",
     "output_type": "stream",
     "text": [
      "livr\n",
      "livreir\n",
      "livr\n"
     ]
    }
   ],
   "source": [
    "print(stemmer.stem(\"livro\"))\n",
    "print(stemmer.stem(\"livreiro\"))\n",
    "print(stemmer.stem(\"livraria\"))"
   ]
  },
  {
   "cell_type": "code",
   "execution_count": 12,
   "metadata": {},
   "outputs": [],
   "source": [
    "X['stemmed'] = X['tokens'].apply(lambda x: [stemmer.stem(y) for y in x]) # Aplica o stemmer pra cada palavra\n",
    "X = X.drop(columns=['sem_stopwords']) # Exclui a coluna sem o stemmer"
   ]
  },
  {
   "cell_type": "code",
   "execution_count": 13,
   "metadata": {
    "scrolled": true
   },
   "outputs": [
    {
     "data": {
      "text/html": [
       "<div>\n",
       "<style scoped>\n",
       "    .dataframe tbody tr th:only-of-type {\n",
       "        vertical-align: middle;\n",
       "    }\n",
       "\n",
       "    .dataframe tbody tr th {\n",
       "        vertical-align: top;\n",
       "    }\n",
       "\n",
       "    .dataframe thead th {\n",
       "        text-align: right;\n",
       "    }\n",
       "</style>\n",
       "<table border=\"1\" class=\"dataframe\">\n",
       "  <thead>\n",
       "    <tr style=\"text-align: right;\">\n",
       "      <th></th>\n",
       "      <th>informacao</th>\n",
       "      <th>tokens</th>\n",
       "      <th>stemmed</th>\n",
       "    </tr>\n",
       "  </thead>\n",
       "  <tbody>\n",
       "    <tr>\n",
       "      <th>0</th>\n",
       "      <td>O Hobbit - 7ª Ed. 2013 Produto NovoBilbo Bols...</td>\n",
       "      <td>[hobbit, 7ª, ed, 2013, produto, novobilbo, bol...</td>\n",
       "      <td>[hobbit, 7ª, ed, 2013, produt, novobilb, bolse...</td>\n",
       "    </tr>\n",
       "    <tr>\n",
       "      <th>1</th>\n",
       "      <td>Livro - It A Coisa - Stephen King Produto Nov...</td>\n",
       "      <td>[livro, it, coisa, stephen, king, produto, nov...</td>\n",
       "      <td>[livr, it, cois, stephen, king, produt, novodu...</td>\n",
       "    </tr>\n",
       "    <tr>\n",
       "      <th>2</th>\n",
       "      <td>Box  As Crônicas De Gelo E Fogo  Pocket  5 Li...</td>\n",
       "      <td>[box, crônicas, gelo, fogo, pocket, 5, livros,...</td>\n",
       "      <td>[box, crônic, gel, fog, pocket, 5, livr, produ...</td>\n",
       "    </tr>\n",
       "    <tr>\n",
       "      <th>3</th>\n",
       "      <td>Box Harry Potter Produto Novo e Físico  A sér...</td>\n",
       "      <td>[box, harry, potter, produto, novo, físico, sé...</td>\n",
       "      <td>[box, harry, pott, produt, nov, físic, séri, h...</td>\n",
       "    </tr>\n",
       "    <tr>\n",
       "      <th>4</th>\n",
       "      <td>Livro Origem - Dan Brown Produto NovoDe Onde ...</td>\n",
       "      <td>[livro, origem, dan, brown, produto, novode, o...</td>\n",
       "      <td>[livr, orig, dan, brown, produt, novod, onde, ...</td>\n",
       "    </tr>\n",
       "  </tbody>\n",
       "</table>\n",
       "</div>"
      ],
      "text/plain": [
       "                                          informacao  \\\n",
       "0   O Hobbit - 7ª Ed. 2013 Produto NovoBilbo Bols...   \n",
       "1   Livro - It A Coisa - Stephen King Produto Nov...   \n",
       "2   Box  As Crônicas De Gelo E Fogo  Pocket  5 Li...   \n",
       "3   Box Harry Potter Produto Novo e Físico  A sér...   \n",
       "4   Livro Origem - Dan Brown Produto NovoDe Onde ...   \n",
       "\n",
       "                                              tokens  \\\n",
       "0  [hobbit, 7ª, ed, 2013, produto, novobilbo, bol...   \n",
       "1  [livro, it, coisa, stephen, king, produto, nov...   \n",
       "2  [box, crônicas, gelo, fogo, pocket, 5, livros,...   \n",
       "3  [box, harry, potter, produto, novo, físico, sé...   \n",
       "4  [livro, origem, dan, brown, produto, novode, o...   \n",
       "\n",
       "                                             stemmed  \n",
       "0  [hobbit, 7ª, ed, 2013, produt, novobilb, bolse...  \n",
       "1  [livr, it, cois, stephen, king, produt, novodu...  \n",
       "2  [box, crônic, gel, fog, pocket, 5, livr, produ...  \n",
       "3  [box, harry, pott, produt, nov, físic, séri, h...  \n",
       "4  [livr, orig, dan, brown, produt, novod, onde, ...  "
      ]
     },
     "execution_count": 13,
     "metadata": {},
     "output_type": "execute_result"
    }
   ],
   "source": [
    "X.head() # Mostra o dataframe"
   ]
  },
  {
   "cell_type": "code",
   "execution_count": 14,
   "metadata": {},
   "outputs": [],
   "source": [
    "X = X.drop(columns=['informacao']) # Exclui as colunas antigas"
   ]
  },
  {
   "cell_type": "markdown",
   "metadata": {},
   "source": [
    "### passo opcional: \n",
    "from sklearn.preprocessing import LabelEncoder\n",
    "\n",
    "le = LabelEncoder()\n",
    "\n",
    "X['stemmed'] = X['stemmed'].apply(lambda col: le.fit_transform(col)) # transforma as palavras em inteiros\n",
    "print(X['stemmed'].head(10))\n",
    "\n",
    "y = le.fit_transform(y) # transforma cada categoria em um inteiro"
   ]
  },
  {
   "cell_type": "code",
   "execution_count": 15,
   "metadata": {
    "scrolled": true
   },
   "outputs": [
    {
     "name": "stdout",
     "output_type": "stream",
     "text": [
      "0    {'hobbit': 2, '7ª': 1, 'ed': 1, '2013': 2, 'pr...\n",
      "1    {'livr': 1, 'it': 2, 'cois': 5, 'stephen': 2, ...\n",
      "2    {'box': 2, 'crônic': 3, 'gel': 3, 'fog': 3, 'p...\n",
      "3    {'box': 2, 'harry': 26, 'pott': 21, 'produt': ...\n",
      "4    {'livr': 1, 'orig': 2, 'dan': 1, 'brown': 2, '...\n",
      "5    {'escur': 2, 'cinquent': 1, 'tons': 1, 'olhos'...\n",
      "6    {'silmarillion': 2, '5ª': 1, 'ed': 1, '2011': ...\n",
      "7    {'pequen': 2, 'princip': 1, 'príncip': 1, 'per...\n",
      "8    {'ed': 6, 'lorrain': 6, 'warren': 6, 'demonolo...\n",
      "9    {'box': 2, 'franz': 2, 'kafk': 5, '1883': 1, '...\n",
      "Name: stemmed, dtype: object\n"
     ]
    }
   ],
   "source": [
    "fdist = X['stemmed'].apply(FreqDist) # calcula a frequência de cada token\n",
    "print(fdist.head(10))"
   ]
  },
  {
   "cell_type": "code",
   "execution_count": 16,
   "metadata": {
    "scrolled": true
   },
   "outputs": [
    {
     "data": {
      "text/html": [
       "<div>\n",
       "<style scoped>\n",
       "    .dataframe tbody tr th:only-of-type {\n",
       "        vertical-align: middle;\n",
       "    }\n",
       "\n",
       "    .dataframe tbody tr th {\n",
       "        vertical-align: top;\n",
       "    }\n",
       "\n",
       "    .dataframe thead th {\n",
       "        text-align: right;\n",
       "    }\n",
       "</style>\n",
       "<table border=\"1\" class=\"dataframe\">\n",
       "  <thead>\n",
       "    <tr style=\"text-align: right;\">\n",
       "      <th></th>\n",
       "      <th>tokens</th>\n",
       "      <th>stemmed</th>\n",
       "      <th>strings</th>\n",
       "    </tr>\n",
       "  </thead>\n",
       "  <tbody>\n",
       "    <tr>\n",
       "      <th>0</th>\n",
       "      <td>[hobbit, 7ª, ed, 2013, produto, novobilbo, bol...</td>\n",
       "      <td>[hobbit, 7ª, ed, 2013, produt, novobilb, bolse...</td>\n",
       "      <td>hobbit 7ª ed 2013 produt novobilb bolseir hobb...</td>\n",
       "    </tr>\n",
       "    <tr>\n",
       "      <th>1</th>\n",
       "      <td>[livro, it, coisa, stephen, king, produto, nov...</td>\n",
       "      <td>[livr, it, cois, stephen, king, produt, novodu...</td>\n",
       "      <td>livr it cois stephen king produt novodur fér e...</td>\n",
       "    </tr>\n",
       "    <tr>\n",
       "      <th>2</th>\n",
       "      <td>[box, crônicas, gelo, fogo, pocket, 5, livros,...</td>\n",
       "      <td>[box, crônic, gel, fog, pocket, 5, livr, produ...</td>\n",
       "      <td>box crônic gel fog pocket 5 livr produt novoto...</td>\n",
       "    </tr>\n",
       "    <tr>\n",
       "      <th>3</th>\n",
       "      <td>[box, harry, potter, produto, novo, físico, sé...</td>\n",
       "      <td>[box, harry, pott, produt, nov, físic, séri, h...</td>\n",
       "      <td>box harry pott produt nov físic séri harry pot...</td>\n",
       "    </tr>\n",
       "    <tr>\n",
       "      <th>4</th>\n",
       "      <td>[livro, origem, dan, brown, produto, novode, o...</td>\n",
       "      <td>[livr, orig, dan, brown, produt, novod, onde, ...</td>\n",
       "      <td>livr orig dan brown produt novod onde viem ond...</td>\n",
       "    </tr>\n",
       "  </tbody>\n",
       "</table>\n",
       "</div>"
      ],
      "text/plain": [
       "                                              tokens  \\\n",
       "0  [hobbit, 7ª, ed, 2013, produto, novobilbo, bol...   \n",
       "1  [livro, it, coisa, stephen, king, produto, nov...   \n",
       "2  [box, crônicas, gelo, fogo, pocket, 5, livros,...   \n",
       "3  [box, harry, potter, produto, novo, físico, sé...   \n",
       "4  [livro, origem, dan, brown, produto, novode, o...   \n",
       "\n",
       "                                             stemmed  \\\n",
       "0  [hobbit, 7ª, ed, 2013, produt, novobilb, bolse...   \n",
       "1  [livr, it, cois, stephen, king, produt, novodu...   \n",
       "2  [box, crônic, gel, fog, pocket, 5, livr, produ...   \n",
       "3  [box, harry, pott, produt, nov, físic, séri, h...   \n",
       "4  [livr, orig, dan, brown, produt, novod, onde, ...   \n",
       "\n",
       "                                             strings  \n",
       "0  hobbit 7ª ed 2013 produt novobilb bolseir hobb...  \n",
       "1  livr it cois stephen king produt novodur fér e...  \n",
       "2  box crônic gel fog pocket 5 livr produt novoto...  \n",
       "3  box harry pott produt nov físic séri harry pot...  \n",
       "4  livr orig dan brown produt novod onde viem ond...  "
      ]
     },
     "execution_count": 16,
     "metadata": {},
     "output_type": "execute_result"
    }
   ],
   "source": [
    "X[\"strings\"]= X[\"stemmed\"].str.join(\" \") # reunindo cada elemento da lista\n",
    "X.head()"
   ]
  },
  {
   "cell_type": "markdown",
   "metadata": {},
   "source": [
    "## Separando os dados em treino e teste\n",
    "80% para treino e 20% para teste"
   ]
  },
  {
   "cell_type": "code",
   "execution_count": 17,
   "metadata": {
    "scrolled": true
   },
   "outputs": [],
   "source": [
    "from sklearn.feature_extraction.text import CountVectorizer\n",
    "\n",
    "X_train,X_test,y_train,y_test = train_test_split(\n",
    "    X[\"strings\"], \n",
    "    y[\"categoria\"], \n",
    "    test_size = 0.2, \n",
    "    random_state = 10\n",
    ")\n",
    "\n",
    "vect = CountVectorizer()\n",
    "vect.fit(X[\"strings\"])\n",
    "\n",
    "dataset = {\n",
    "    \"X_train\": vect.transform(X_train),\n",
    "    \"X_test\": vect.transform(X_test),\n",
    "    \"y_train\": y_train,\n",
    "    \"y_test\" : y_test,\n",
    "    \"vect\": vect\n",
    "}"
   ]
  },
  {
   "cell_type": "markdown",
   "metadata": {},
   "source": [
    "## Treino"
   ]
  },
  {
   "cell_type": "code",
   "execution_count": 18,
   "metadata": {},
   "outputs": [],
   "source": [
    "from sklearn.naive_bayes import MultinomialNB\n",
    "clf = MultinomialNB()\n",
    "clf.fit(dataset[\"X_train\"], dataset[\"y_train\"])\n",
    "\n",
    "products_model = {\n",
    "    \"clf\" : clf,\n",
    "    \"vect\": dataset[\"vect\"]\n",
    "}"
   ]
  },
  {
   "cell_type": "markdown",
   "metadata": {},
   "source": [
    "build three predictive models: 1) Decision Tree, 2) Random Forest, and 3) Gradient Boost;\n",
    "assess the predictive power of these models and select the most superior one."
   ]
  },
  {
   "cell_type": "markdown",
   "metadata": {},
   "source": [
    "# Testes"
   ]
  },
  {
   "cell_type": "code",
   "execution_count": 19,
   "metadata": {},
   "outputs": [
    {
     "name": "stdout",
     "output_type": "stream",
     "text": [
      "0.976027397260274\n"
     ]
    }
   ],
   "source": [
    "from sklearn.metrics import accuracy_score\n",
    "y_prediction = products_model[\"clf\"].predict(dataset[\"X_test\"])\n",
    "\n",
    "accuracy = accuracy_score(y_prediction, dataset[\"y_test\"])\n",
    "\n",
    "print (accuracy)\n",
    "\n",
    "products_metrics = accuracy"
   ]
  },
  {
   "cell_type": "code",
   "execution_count": 22,
   "metadata": {},
   "outputs": [],
   "source": [
    "input_message = [\"hobbit\"]\n",
    "input_message = products_model[\"vect\"].transform(input_message)\n",
    "final_prediction = products_model[\"clf\"].predict(input_message)[0]\n"
   ]
  },
  {
   "cell_type": "code",
   "execution_count": 23,
   "metadata": {},
   "outputs": [
    {
     "name": "stdout",
     "output_type": "stream",
     "text": [
      "Predicted value: livro\n"
     ]
    }
   ],
   "source": [
    "print(\"Predicted value: \" + final_prediction)"
   ]
  },
  {
   "cell_type": "code",
   "execution_count": null,
   "metadata": {},
   "outputs": [],
   "source": []
  }
 ],
 "metadata": {
  "kernelspec": {
   "display_name": "Python 3 (ipykernel)",
   "language": "python",
   "name": "python3"
  },
  "language_info": {
   "codemirror_mode": {
    "name": "ipython",
    "version": 3
   },
   "file_extension": ".py",
   "mimetype": "text/x-python",
   "name": "python",
   "nbconvert_exporter": "python",
   "pygments_lexer": "ipython3",
   "version": "3.7.3"
  }
 },
 "nbformat": 4,
 "nbformat_minor": 2
}
