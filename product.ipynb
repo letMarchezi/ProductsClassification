{
 "cells": [
  {
   "cell_type": "markdown",
   "metadata": {},
   "source": [
    "# Pré-processamento"
   ]
  },
  {
   "cell_type": "code",
   "execution_count": 4,
   "metadata": {},
   "outputs": [
    {
     "name": "stdout",
     "output_type": "stream",
     "text": [
      "Requirement already satisfied: nltk in /home/celesde/.virtualenvs/products-engine-env/lib/python3.7/site-packages (3.6.5)\n",
      "Requirement already satisfied: regex>=2021.8.3 in /home/celesde/.virtualenvs/products-engine-env/lib/python3.7/site-packages (from nltk) (2021.10.23)\n",
      "Requirement already satisfied: tqdm in /home/celesde/.virtualenvs/products-engine-env/lib/python3.7/site-packages (from nltk) (4.62.3)\n",
      "Requirement already satisfied: joblib in /home/celesde/.virtualenvs/products-engine-env/lib/python3.7/site-packages (from nltk) (1.1.0)\n",
      "Requirement already satisfied: click in /home/celesde/.virtualenvs/products-engine-env/lib/python3.7/site-packages (from nltk) (8.0.3)\n",
      "Requirement already satisfied: importlib-metadata in /home/celesde/.virtualenvs/products-engine-env/lib/python3.7/site-packages (from click->nltk) (4.8.1)\n",
      "Requirement already satisfied: zipp>=0.5 in /home/celesde/.virtualenvs/products-engine-env/lib/python3.7/site-packages (from importlib-metadata->click->nltk) (3.6.0)\n",
      "Requirement already satisfied: typing-extensions>=3.6.4 in /home/celesde/.virtualenvs/products-engine-env/lib/python3.7/site-packages (from importlib-metadata->click->nltk) (3.10.0.2)\n",
      "\u001b[33mWARNING: You are using pip version 21.2.4; however, version 21.3.1 is available.\n",
      "You should consider upgrading via the '/home/celesde/.virtualenvs/products-engine-env/bin/python -m pip install --upgrade pip' command.\u001b[0m\n",
      "Requirement already satisfied: matplotlib in /home/celesde/.virtualenvs/products-engine-env/lib/python3.7/site-packages (3.4.3)\n",
      "Requirement already satisfied: python-dateutil>=2.7 in /home/celesde/.virtualenvs/products-engine-env/lib/python3.7/site-packages (from matplotlib) (2.8.2)\n",
      "Requirement already satisfied: pillow>=6.2.0 in /home/celesde/.virtualenvs/products-engine-env/lib/python3.7/site-packages (from matplotlib) (8.4.0)\n",
      "Requirement already satisfied: cycler>=0.10 in /home/celesde/.virtualenvs/products-engine-env/lib/python3.7/site-packages (from matplotlib) (0.10.0)\n",
      "Requirement already satisfied: pyparsing>=2.2.1 in /home/celesde/.virtualenvs/products-engine-env/lib/python3.7/site-packages (from matplotlib) (2.4.7)\n",
      "Requirement already satisfied: numpy>=1.16 in /home/celesde/.virtualenvs/products-engine-env/lib/python3.7/site-packages (from matplotlib) (1.21.3)\n",
      "Requirement already satisfied: kiwisolver>=1.0.1 in /home/celesde/.virtualenvs/products-engine-env/lib/python3.7/site-packages (from matplotlib) (1.3.2)\n",
      "Requirement already satisfied: six in /home/celesde/.virtualenvs/products-engine-env/lib/python3.7/site-packages (from cycler>=0.10->matplotlib) (1.16.0)\n",
      "\u001b[33mWARNING: You are using pip version 21.2.4; however, version 21.3.1 is available.\n",
      "You should consider upgrading via the '/home/celesde/.virtualenvs/products-engine-env/bin/python -m pip install --upgrade pip' command.\u001b[0m\n",
      "Requirement already satisfied: seaborn in /home/celesde/.virtualenvs/products-engine-env/lib/python3.7/site-packages (0.11.2)\n",
      "Requirement already satisfied: scipy>=1.0 in /home/celesde/.virtualenvs/products-engine-env/lib/python3.7/site-packages (from seaborn) (1.7.1)\n",
      "Requirement already satisfied: pandas>=0.23 in /home/celesde/.virtualenvs/products-engine-env/lib/python3.7/site-packages (from seaborn) (1.3.4)\n",
      "Requirement already satisfied: matplotlib>=2.2 in /home/celesde/.virtualenvs/products-engine-env/lib/python3.7/site-packages (from seaborn) (3.4.3)\n",
      "Requirement already satisfied: numpy>=1.15 in /home/celesde/.virtualenvs/products-engine-env/lib/python3.7/site-packages (from seaborn) (1.21.3)\n",
      "Requirement already satisfied: pillow>=6.2.0 in /home/celesde/.virtualenvs/products-engine-env/lib/python3.7/site-packages (from matplotlib>=2.2->seaborn) (8.4.0)\n",
      "Requirement already satisfied: pyparsing>=2.2.1 in /home/celesde/.virtualenvs/products-engine-env/lib/python3.7/site-packages (from matplotlib>=2.2->seaborn) (2.4.7)\n",
      "Requirement already satisfied: cycler>=0.10 in /home/celesde/.virtualenvs/products-engine-env/lib/python3.7/site-packages (from matplotlib>=2.2->seaborn) (0.10.0)\n",
      "Requirement already satisfied: kiwisolver>=1.0.1 in /home/celesde/.virtualenvs/products-engine-env/lib/python3.7/site-packages (from matplotlib>=2.2->seaborn) (1.3.2)\n",
      "Requirement already satisfied: python-dateutil>=2.7 in /home/celesde/.virtualenvs/products-engine-env/lib/python3.7/site-packages (from matplotlib>=2.2->seaborn) (2.8.2)\n",
      "Requirement already satisfied: six in /home/celesde/.virtualenvs/products-engine-env/lib/python3.7/site-packages (from cycler>=0.10->matplotlib>=2.2->seaborn) (1.16.0)\n",
      "Requirement already satisfied: pytz>=2017.3 in /home/celesde/.virtualenvs/products-engine-env/lib/python3.7/site-packages (from pandas>=0.23->seaborn) (2021.3)\n",
      "\u001b[33mWARNING: You are using pip version 21.2.4; however, version 21.3.1 is available.\n",
      "You should consider upgrading via the '/home/celesde/.virtualenvs/products-engine-env/bin/python -m pip install --upgrade pip' command.\u001b[0m\n",
      "Requirement already satisfied: sklearn in /home/celesde/.virtualenvs/products-engine-env/lib/python3.7/site-packages (0.0)\n",
      "Requirement already satisfied: scikit-learn in /home/celesde/.virtualenvs/products-engine-env/lib/python3.7/site-packages (from sklearn) (1.0)\n",
      "Requirement already satisfied: threadpoolctl>=2.0.0 in /home/celesde/.virtualenvs/products-engine-env/lib/python3.7/site-packages (from scikit-learn->sklearn) (3.0.0)\n",
      "Requirement already satisfied: scipy>=1.1.0 in /home/celesde/.virtualenvs/products-engine-env/lib/python3.7/site-packages (from scikit-learn->sklearn) (1.7.1)\n",
      "Requirement already satisfied: numpy>=1.14.6 in /home/celesde/.virtualenvs/products-engine-env/lib/python3.7/site-packages (from scikit-learn->sklearn) (1.21.3)\n",
      "Requirement already satisfied: joblib>=0.11 in /home/celesde/.virtualenvs/products-engine-env/lib/python3.7/site-packages (from scikit-learn->sklearn) (1.1.0)\n",
      "\u001b[33mWARNING: You are using pip version 21.2.4; however, version 21.3.1 is available.\n",
      "You should consider upgrading via the '/home/celesde/.virtualenvs/products-engine-env/bin/python -m pip install --upgrade pip' command.\u001b[0m\n"
     ]
    }
   ],
   "source": [
    "import sys \n",
    "!{sys.executable} -m pip install nltk \n",
    "!{sys.executable} -m pip install matplotlib\n",
    "!{sys.executable} -m pip install seaborn\n",
    "!{sys.executable} -m pip install sklearn"
   ]
  },
  {
   "cell_type": "code",
   "execution_count": 53,
   "metadata": {
    "scrolled": true
   },
   "outputs": [
    {
     "name": "stdout",
     "output_type": "stream",
     "text": [
      "categoria\n",
      "brinquedo    1020\n",
      "game         1020\n",
      "livro        1020\n",
      "maquiagem    1020\n",
      "dtype: int64\n"
     ]
    }
   ],
   "source": [
    "from marvin_python_toolbox.common.data import MarvinData\n",
    "import pandas as pd\n",
    "import nltk\n",
    "\n",
    "products_data = pd.read_csv(MarvinData.download_file(\"https://s3.amazonaws.com/automl-example/produtos.csv\"), delimiter=';', encoding='utf-8')\n",
    "print(products_data.groupby('categoria').size())\n",
    "\n",
    "# concatenando as colunas nome e descricao\n",
    "products_data['informacao'] = products_data['nome'] + products_data['descricao']\n",
    "# excluindo linhas com valor de informacao ou categoria NaN\n",
    "products_data.dropna(subset=['informacao', 'categoria'], inplace=True)\n",
    "products_data.drop(columns=['nome', 'descricao'], inplace=True)"
   ]
  },
  {
   "cell_type": "markdown",
   "metadata": {},
   "source": [
    "### 29% do dataframe foi removido, porém não é possível utilizar detalhes sem classificação ou classificação sem detalhes. "
   ]
  },
  {
   "cell_type": "code",
   "execution_count": 54,
   "metadata": {
    "scrolled": true
   },
   "outputs": [
    {
     "name": "stdout",
     "output_type": "stream",
     "text": [
      "categoria\n",
      "brinquedo    668\n",
      "game         622\n",
      "livro        838\n",
      "maquiagem    788\n",
      "dtype: int64\n"
     ]
    }
   ],
   "source": [
    "print(products_data.groupby('categoria').size())"
   ]
  },
  {
   "cell_type": "markdown",
   "metadata": {},
   "source": [
    "# Visualização dos dados após exclusão de nulos\n",
    "não está 100% balanceado e pode ser melhorado posteriormente."
   ]
  },
  {
   "cell_type": "code",
   "execution_count": 55,
   "metadata": {},
   "outputs": [
    {
     "data": {
      "image/png": "[encoded data removed]",
      "text/plain": [
       "<Figure size 432x288 with 1 Axes>"
      ]
     },
     "metadata": {
      "needs_background": "light"
     },
     "output_type": "display_data"
    }
   ],
   "source": [
    "import matplotlib.pyplot as plt\n",
    "import seaborn as sns\n",
    "sns.countplot(x=products_data['categoria']) \n",
    "plt.show() # plota o gráfico por categoria"
   ]
  },
  {
   "cell_type": "markdown",
   "metadata": {},
   "source": [
    "## Fazendo separação das palavras, removendo pontuação e stopwords"
   ]
  },
  {
   "cell_type": "code",
   "execution_count": 56,
   "metadata": {},
   "outputs": [
    {
     "name": "stdout",
     "output_type": "stream",
     "text": [
      "0    hobbit - 7ª ed. 2013 produto novobilbo bolseir...\n",
      "1    livro - it coisa - stephen king produto novodu...\n",
      "2    box crônicas gelo fogo pocket 5 livros produto...\n",
      "3    box harry potter produto novo físico série har...\n",
      "4    livro origem - dan brown produto novode onde v...\n",
      "Name: sem_stopwords, dtype: object\n"
     ]
    }
   ],
   "source": [
    "from nltk.corpus import stopwords\n",
    "stop_words=set(stopwords.words(\"portuguese\"))\n",
    "\n",
    "# transforma a string em caixa baixa e remove stopwords\n",
    "products_data['sem_stopwords'] = products_data['informacao'].str.lower().apply(lambda x: ' '.join([word for word in x.split() if word not in (stop_words)]))\n",
    "print(products_data['sem_stopwords'].head())\n",
    "\n",
    "tokenizer = nltk.RegexpTokenizer(r\"\\w+\")\n",
    "products_data['tokens'] = products_data['sem_stopwords'].apply(tokenizer.tokenize) # aplica o regex tokenizer\n",
    "products_data.drop(columns=['sem_stopwords','informacao'],inplace=True) # Exclui as colunas antigas\n",
    "\n",
    "products_data[\"strings\"]= products_data[\"tokens\"].str.join(\" \") # reunindo cada elemento da lista\n",
    "products_data.head()\n",
    "marvin_initial_dataset = products_data"
   ]
  },
  {
   "cell_type": "code",
   "execution_count": 57,
   "metadata": {},
   "outputs": [
    {
     "name": "stdout",
     "output_type": "stream",
     "text": [
      "0    {'hobbit': 2, '7ª': 1, 'ed': 1, '2013': 2, 'pr...\n",
      "1    {'livro': 1, 'it': 2, 'coisa': 5, 'stephen': 2...\n",
      "2    {'box': 2, 'crônicas': 3, 'gelo': 3, 'fogo': 3...\n",
      "3    {'box': 2, 'harry': 26, 'potter': 21, 'produto...\n",
      "4    {'livro': 1, 'origem': 2, 'dan': 1, 'brown': 2...\n",
      "Name: tokens, dtype: object\n"
     ]
    }
   ],
   "source": [
    "from nltk.probability import FreqDist\n",
    "fdist = products_data['tokens'].apply(FreqDist) # calcula a frequência de cada token\n",
    "print(fdist.head()) # frequencia na coluna sem stop_words"
   ]
  },
  {
   "cell_type": "code",
   "execution_count": 58,
   "metadata": {},
   "outputs": [
    {
     "data": {
      "text/html": [
       "<div>\n",
       "<style scoped>\n",
       "    .dataframe tbody tr th:only-of-type {\n",
       "        vertical-align: middle;\n",
       "    }\n",
       "\n",
       "    .dataframe tbody tr th {\n",
       "        vertical-align: top;\n",
       "    }\n",
       "\n",
       "    .dataframe thead th {\n",
       "        text-align: right;\n",
       "    }\n",
       "</style>\n",
       "<table border=\"1\" class=\"dataframe\">\n",
       "  <thead>\n",
       "    <tr style=\"text-align: right;\">\n",
       "      <th></th>\n",
       "      <th>categoria</th>\n",
       "      <th>tokens</th>\n",
       "      <th>strings</th>\n",
       "    </tr>\n",
       "  </thead>\n",
       "  <tbody>\n",
       "    <tr>\n",
       "      <th>0</th>\n",
       "      <td>livro</td>\n",
       "      <td>[hobbit, 7ª, ed, 2013, produto, novobilbo, bol...</td>\n",
       "      <td>hobbit 7ª ed 2013 produto novobilbo bolseiro h...</td>\n",
       "    </tr>\n",
       "    <tr>\n",
       "      <th>1</th>\n",
       "      <td>livro</td>\n",
       "      <td>[livro, it, coisa, stephen, king, produto, nov...</td>\n",
       "      <td>livro it coisa stephen king produto novodurant...</td>\n",
       "    </tr>\n",
       "    <tr>\n",
       "      <th>2</th>\n",
       "      <td>livro</td>\n",
       "      <td>[box, crônicas, gelo, fogo, pocket, 5, livros,...</td>\n",
       "      <td>box crônicas gelo fogo pocket 5 livros produto...</td>\n",
       "    </tr>\n",
       "    <tr>\n",
       "      <th>3</th>\n",
       "      <td>livro</td>\n",
       "      <td>[box, harry, potter, produto, novo, físico, sé...</td>\n",
       "      <td>box harry potter produto novo físico série har...</td>\n",
       "    </tr>\n",
       "    <tr>\n",
       "      <th>4</th>\n",
       "      <td>livro</td>\n",
       "      <td>[livro, origem, dan, brown, produto, novode, o...</td>\n",
       "      <td>livro origem dan brown produto novode onde vie...</td>\n",
       "    </tr>\n",
       "  </tbody>\n",
       "</table>\n",
       "</div>"
      ],
      "text/plain": [
       "  categoria                                             tokens  \\\n",
       "0     livro  [hobbit, 7ª, ed, 2013, produto, novobilbo, bol...   \n",
       "1     livro  [livro, it, coisa, stephen, king, produto, nov...   \n",
       "2     livro  [box, crônicas, gelo, fogo, pocket, 5, livros,...   \n",
       "3     livro  [box, harry, potter, produto, novo, físico, sé...   \n",
       "4     livro  [livro, origem, dan, brown, produto, novode, o...   \n",
       "\n",
       "                                             strings  \n",
       "0  hobbit 7ª ed 2013 produto novobilbo bolseiro h...  \n",
       "1  livro it coisa stephen king produto novodurant...  \n",
       "2  box crônicas gelo fogo pocket 5 livros produto...  \n",
       "3  box harry potter produto novo físico série har...  \n",
       "4  livro origem dan brown produto novode onde vie...  "
      ]
     },
     "execution_count": 58,
     "metadata": {},
     "output_type": "execute_result"
    }
   ],
   "source": [
    "products_data.head()"
   ]
  },
  {
   "cell_type": "markdown",
   "metadata": {},
   "source": [
    "# Separando os dados em treino e teste\n",
    "80% para treino e 20% para teste"
   ]
  },
  {
   "cell_type": "code",
   "execution_count": 59,
   "metadata": {
    "marvin_cell": "tpreparator",
    "scrolled": true
   },
   "outputs": [],
   "source": [
    "from sklearn.feature_extraction.text import CountVectorizer\n",
    "from sklearn.feature_extraction.text import TfidfVectorizer\n",
    "from sklearn.model_selection import train_test_split\n",
    "\n",
    "X_train,X_test,y_train,y_test = train_test_split( # Separação dos dados para teste e treino\n",
    "    marvin_initial_dataset[\"strings\"], \n",
    "    marvin_initial_dataset[\"categoria\"], \n",
    "    test_size = 0.2, \n",
    "    random_state = 10\n",
    ")\n",
    "# CountVectorizer\n",
    "vect = CountVectorizer()\n",
    "vect.fit(marvin_initial_dataset[\"strings\"])\n",
    "\n",
    "marvin_dataset = { \n",
    "    \"X_train\": vect.transform(X_train),\n",
    "    \"X_test\": vect.transform(X_test),\n",
    "    \"y_train\": y_train,\n",
    "    \"y_test\" : y_test,\n",
    "    \"vect\": vect\n",
    "}\n",
    "\n"
   ]
  },
  {
   "cell_type": "code",
   "execution_count": 60,
   "metadata": {},
   "outputs": [],
   "source": [
    "# TfidfVectorizer\n",
    "vectorizer = TfidfVectorizer()\n",
    "X_train_tfidf = vectorizer.fit_transform(X_train)"
   ]
  },
  {
   "cell_type": "markdown",
   "metadata": {},
   "source": [
    "## Treino"
   ]
  },
  {
   "cell_type": "code",
   "execution_count": 61,
   "metadata": {
    "marvin_cell": "trainer"
   },
   "outputs": [],
   "source": [
    "from sklearn.naive_bayes import MultinomialNB\n",
    "clf = MultinomialNB()\n",
    "clf.fit(marvin_dataset[\"X_train\"], marvin_dataset[\"y_train\"])\n",
    "\n",
    "marvin_model = {\n",
    "    \"clf\" : clf,\n",
    "    \"vect\": marvin_dataset[\"vect\"]\n",
    "}\n"
   ]
  },
  {
   "cell_type": "markdown",
   "metadata": {},
   "source": [
    "# Rede neural Perceptron Multicamadas\n",
    "from sklearn.neural_network import MLPClassifier\n",
    "\n",
    "mlp = MLPClassifier(solver='lbfgs', alpha=1e-5, hidden_layer_sizes=(70, ), random_state=1, verbose=True)\n",
    "mlp.fit(X_train_tfidf, y_train) # Treino do classificador"
   ]
  },
  {
   "cell_type": "markdown",
   "metadata": {},
   "source": [
    "# Metricas"
   ]
  },
  {
   "cell_type": "code",
   "execution_count": 63,
   "metadata": {
    "marvin_cell": "evaluator"
   },
   "outputs": [
    {
     "name": "stdout",
     "output_type": "stream",
     "text": [
      "Precisão do multinomialNB: \n",
      "0.9811643835616438\n"
     ]
    }
   ],
   "source": [
    "from sklearn.metrics import accuracy_score\n",
    "from sklearn import metrics\n",
    "# Multinomial NB\n",
    "y_prediction = marvin_model[\"clf\"].predict(marvin_dataset[\"X_test\"])\n",
    "accuracy = accuracy_score(y_prediction, marvin_dataset[\"y_test\"])\n",
    "\n",
    "print (\"Precisão do multinomialNB: \")\n",
    "print (accuracy)\n",
    "\n",
    "marvin_metrics = accuracy "
   ]
  },
  {
   "cell_type": "markdown",
   "metadata": {},
   "source": [
    "\n",
    "# MPL Classifier\n",
    "vect_transform = vectorizer.transform(X_test)\n",
    "predicted = mlp.predict(vect_transform)\n",
    "\n",
    "print (\"\\nPrecisão da Rede Neural: \")\n",
    "#print(metrics.classification_report(y_test, predicted,target_names=y_test.unique()))\n",
    "\n",
    "y_prediction = mlp.predict(vect_transform)\n",
    "accuracy = accuracy_score(y_prediction, marvin_dataset[\"y_test\"])\n",
    "print (accuracy)\n",
    "\n",
    "#marvin_metrics = accuracy "
   ]
  },
  {
   "cell_type": "markdown",
   "metadata": {},
   "source": [
    "# Preparaçao para prediçao"
   ]
  },
  {
   "cell_type": "code",
   "execution_count": 67,
   "metadata": {
    "marvin_cell": "ppreparator"
   },
   "outputs": [],
   "source": [
    "input_message = [\"Child of Light Ubisoft Connect Key GLOBAL\"]\n",
    "input_message = marvin_model[\"vect\"].transform(input_message)"
   ]
  },
  {
   "cell_type": "markdown",
   "metadata": {},
   "source": [
    "# Prediçao final"
   ]
  },
  {
   "cell_type": "code",
   "execution_count": 68,
   "metadata": {
    "marvin_cell": "predictor"
   },
   "outputs": [
    {
     "name": "stdout",
     "output_type": "stream",
     "text": [
      "Predicted value: game\n"
     ]
    }
   ],
   "source": [
    "final_prediction = marvin_model[\"clf\"].predict(input_message)[0]\n",
    "print(\"Predicted value: \" + final_prediction)"
   ]
  },
  {
   "cell_type": "code",
   "execution_count": null,
   "metadata": {},
   "outputs": [],
   "source": []
  }
 ],
 "metadata": {
  "kernelspec": {
   "display_name": "Python 3 (ipykernel)",
   "language": "python",
   "name": "python3"
  },
  "language_info": {
   "codemirror_mode": {
    "name": "ipython",
    "version": 3
   },
   "file_extension": ".py",
   "mimetype": "text/x-python",
   "name": "python",
   "nbconvert_exporter": "python",
   "pygments_lexer": "ipython3",
   "version": "3.7.3"
  }
 },
 "nbformat": 4,
 "nbformat_minor": 2
}
